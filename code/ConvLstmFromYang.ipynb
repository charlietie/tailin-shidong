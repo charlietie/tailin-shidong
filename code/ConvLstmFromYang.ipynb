{
 "cells": [
  {
   "cell_type": "code",
   "execution_count": 23,
   "metadata": {},
   "outputs": [],
   "source": [
    "import numpy as np\n",
    "import scipy.io\n",
    "import matplotlib.pyplot as plt\n",
    "import tensorflow as tf\n",
    "from tensorflow.contrib import rnn\n",
    "from tensorflow.python.framework import ops\n",
    "from suppFunc import _data_loading, cnn_random_mini_batches"
   ]
  },
  {
   "cell_type": "code",
   "execution_count": 7,
   "metadata": {},
   "outputs": [
    {
     "name": "stdout",
     "output_type": "stream",
     "text": [
      "CNN\n"
     ]
    }
   ],
   "source": [
    "num_classes = 12\n",
    "num_hidden_lstm = 32\n",
    "X_train, X_valid, y_train, y_valid = _data_loading('CNN', num_classes)"
   ]
  },
  {
   "cell_type": "code",
   "execution_count": 3,
   "metadata": {},
   "outputs": [
    {
     "name": "stdout",
     "output_type": "stream",
     "text": [
      "X_train.shape(9466, 52, 100, 1)\n",
      "Y_train.shape(9466, 12)\n"
     ]
    }
   ],
   "source": [
    "print('X_train.shape' + str(X_train.shape))\n",
    "print('Y_train.shape' + str(y_train.shape))"
   ]
  },
  {
   "cell_type": "code",
   "execution_count": 4,
   "metadata": {},
   "outputs": [],
   "source": [
    "def create_placeholders(dim, win_len, n_C0, num_classes):\n",
    "    \"\"\"\n",
    "    Arguments:\n",
    "    dim -- scalar, dimension of the input (52)\n",
    "    win_len -- scalar, window_size of the input (100)\n",
    "    n_C0 -- scalar, number of channels of the input (1)\n",
    "    num_classes -- scalar, number of classes (12)\n",
    "    \n",
    "    Returns:\n",
    "    X -- placeholder for the data input, of shape [None, win_len, dim, n_C0] and dtype \"float\"\n",
    "    Y -- placeholder for the input labels, of shape [None, num_classes] and dtype \"float\"\n",
    "    \"\"\"\n",
    "    X = tf.placeholder(tf.float32, shape=(None, dim, win_len, n_C0))\n",
    "    Y = tf.placeholder(tf.float32, shape=(None, num_classes))\n",
    "    \n",
    "    return X, Y"
   ]
  },
  {
   "cell_type": "code",
   "execution_count": 8,
   "metadata": {},
   "outputs": [],
   "source": [
    "def initialize_parameters():\n",
    "    \"\"\"\n",
    "    Initializes weight parameters to build a cnn with tensorflow. The shapes are:\n",
    "                        W1 : [1, 5, 1,16]\n",
    "                        W2 : [1, 5, 16, 16]\n",
    "    Returns:\n",
    "    parameters -- a dictionary of tensors containing W1, W2\n",
    "    \"\"\"\n",
    "    W1 = tf.get_variable(\"W1\", [1, 5, 1,16], initializer = tf.contrib.layers.xavier_initializer())\n",
    "    W2 = tf.get_variable(\"W2\", [1, 5, 16, 16], initializer = tf.contrib.layers.xavier_initializer())\n",
    "    Wy = tf.get_variable(\"Wy\", [num_hidden_lstm, num_classes], initializer = tf.contrib.layers.xavier_initializer())\n",
    "    by = tf.get_variable(\"by\", [num_classes], initializer = tf.zeros_initializer())\n",
    "\n",
    "\n",
    "    parameters = {\"W1\": W1,\n",
    "                  \"W2\": W2,\n",
    "                  \"Wy\": Wy,\n",
    "                  \"by\": by}\n",
    "    \n",
    "    return parameters"
   ]
  },
  {
   "cell_type": "code",
   "execution_count": 19,
   "metadata": {},
   "outputs": [],
   "source": [
    "def forward_propagation(X, parameters, keep_prob):\n",
    "    \"\"\"\n",
    "    Arguments:\n",
    "    parameters -- python dictionary containing your parameters \"W1\", \"W2\"\n",
    "                  the shapes are given in initialize_parameters\n",
    "\n",
    "    Returns:\n",
    "    ZL -- the output of the last LINEAR unit\n",
    "    \"\"\"\n",
    "    W1 = parameters['W1']\n",
    "    W2 = parameters['W2']\n",
    "    Wy = parameters['Wy']\n",
    "    by = parameters['by']\n",
    "    X = tf.cast(X, tf.float32)\n",
    "    print('forward_propagation1-----' + str(X))\n",
    "    Z1 = tf.nn.conv2d(X,W1, strides = [1,1,1,1], padding = 'SAME')\n",
    "    A1 = tf.nn.relu(Z1)\n",
    "    print('forward_propagation2-----' + str(A1))\n",
    "    \n",
    "    P1 = tf.nn.max_pool(A1, ksize = [1,1,2,1], strides = [1,1,2,1], padding = 'SAME')\n",
    "    print('forward_propagation3-----' + str(P1))\n",
    "    Z2 = tf.nn.conv2d(P1,W2, strides = [1,1,1,1], padding = 'SAME')\n",
    "    print('forward_propagation4-----' + str(Z2))\n",
    "    A2 = tf.nn.relu(Z2)\n",
    "    print('forward_propagation5-----' + str(A2))\n",
    "    P2 = tf.nn.max_pool(A2, ksize = [1,1,2,1], strides = [1,1,2,1], padding = 'SAME')\n",
    "    print('forward_propagation6-----' + str(P2))\n",
    "    \n",
    "    Reshape_1 = tf.transpose(P2, perm=[0,2,1,3])\n",
    "    Reshape_2 = tf.reshape(Reshape_1,[-1,25,52*16])\n",
    "    \n",
    "    \n",
    "    inputs = tf.unstack(Reshape_2, 25, 1)\n",
    "    \n",
    "    lstm_layer = rnn.BasicLSTMCell(num_hidden_lstm,forget_bias=1)\n",
    "    \n",
    "    outputs, _ = rnn.static_rnn(lstm_layer,inputs,dtype=\"float32\")\n",
    "    \n",
    "    output = outputs[-1]\n",
    "    \n",
    "    \n",
    "    ZL = tf.matmul(output, parameters['Wy']) + parameters['by']\n",
    "    \n",
    "    \n",
    "    return ZL"
   ]
  },
  {
   "cell_type": "code",
   "execution_count": 20,
   "metadata": {},
   "outputs": [],
   "source": [
    "def compute_cost(ZL, Y):\n",
    "    cost = tf.reduce_mean(tf.nn.softmax_cross_entropy_with_logits_v2(logits = ZL, labels = Y))\n",
    "    \n",
    "    return cost"
   ]
  },
  {
   "cell_type": "code",
   "execution_count": 11,
   "metadata": {},
   "outputs": [],
   "source": [
    "def compute_cost(ZL, Y):\n",
    "    \n",
    "    \n",
    "    l2 = lambda_loss_amount * sum(\n",
    "    tf.nn.l2_loss(tf_var) for tf_var in tf.trainable_variables()\n",
    "    )\n",
    "    \n",
    "    cost =tf.reduce_mean(tf.nn.softmax_cross_entropy_with_logits_v2(logits=ZL,labels=Y)) + l2\n",
    "    \n",
    "    return cost"
   ]
  },
  {
   "cell_type": "code",
   "execution_count": 29,
   "metadata": {},
   "outputs": [],
   "source": [
    "def model(X_train, y_train, X_valid, y_valid, learning_rate = 0.001,\n",
    "          num_epochs = 15, minibatch_size = 128, print_cost = True):\n",
    "    \n",
    "    ops.reset_default_graph() \n",
    "    \n",
    "    (m, dim, win_len, n_C0) = X_train.shape      \n",
    "    n_y = y_train.shape[1]\n",
    "        \n",
    "    #create placeholders for X, Y and keep_prob     \n",
    "    X, Y = create_placeholders(dim, win_len, n_C0, num_classes)\n",
    "    keep_prob = tf.placeholder(tf.float32)\n",
    "    \n",
    "    #initialize parameters\n",
    "    parameters = initialize_parameters()\n",
    "    \n",
    "    #get the prediction of Y labels\n",
    "    prediction = forward_propagation(X, parameters ,keep_prob)\n",
    "    \n",
    "    #cost     \n",
    "    cost = compute_cost(prediction,Y)\n",
    "    \n",
    "    #use Adam optimizer     \n",
    "    optimizer=tf.train.AdamOptimizer(learning_rate=learning_rate).minimize(cost)\n",
    "    \n",
    "    #keep track of accuracies and losses of test and train data set     \n",
    "    test_losses = []\n",
    "    test_accuracies = []\n",
    "    train_losses = []\n",
    "    train_accuracies = []\n",
    "    \n",
    "    #\n",
    "    correct_prediction=tf.equal(tf.argmax(prediction,1),tf.argmax(Y,1))\n",
    "    accuracy=tf.reduce_mean(tf.cast(correct_prediction,tf.float32))\n",
    "    \n",
    "    #\n",
    "    init = tf.global_variables_initializer()\n",
    "    \n",
    "    with tf.Session() as sess:\n",
    "        \n",
    "        # Run the initialization\n",
    "        sess.run(init)\n",
    "        step = 1\n",
    "        # Do the training loop\n",
    "        for epoch in range(num_epochs):\n",
    "\n",
    "            epoch_cost = 0.      \n",
    "\n",
    "            minibatches = cnn_random_mini_batches(X_train,y_train,minibatch_size)\n",
    "            \n",
    "            for minibatch in minibatches:\n",
    "                \n",
    "                (minibatch_x, minibatch_y) = minibatch\n",
    "            \n",
    "            \n",
    "                _, loss, acc = sess.run(\n",
    "                [optimizer, cost, accuracy],feed_dict={X: minibatch_x, \n",
    "                                                       Y: minibatch_y, \n",
    "                                                       keep_prob: 0.5})\n",
    "                train_losses.append(loss)\n",
    "                train_accuracies.append(acc)\n",
    "            \n",
    "            \n",
    "            # Evaluate network only at some steps for faster training: \n",
    "            if (epoch % 1 == 0):\n",
    "        \n",
    "                # To not spam console, show training accuracy/loss in this \"if\"\n",
    "                print(\"epoch iter #\" + str(epoch) + \":Batch Loss = \" + \"{:.6f}\".format(loss) + \", Accuracy = {}\".format(acc))\n",
    "            \n",
    "                # Evaluation on the test set (no learning made here - just evaluation for diagnosis)\n",
    "                loss, acc = sess.run(\n",
    "                    [cost, accuracy], \n",
    "                    feed_dict={\n",
    "                        X: X_valid,\n",
    "                        Y: y_valid,\n",
    "                        keep_prob: 1})\n",
    "                \n",
    "                test_losses.append(loss)\n",
    "                test_accuracies.append(acc)\n",
    "                print(\"PERFORMANCE ON TEST SET: \" + \\\n",
    "                      \"Batch Loss = {}\".format(loss) + \\\n",
    "                      \", Accuracy = {}\".format(acc))\n",
    "\n",
    "\n",
    "        print(\"Optimization Finished!\")\n",
    "        \n",
    "        # plot the cost\n",
    "        apredictions, accuracy, final_loss = sess.run(\n",
    "        [prediction, accuracy, cost],\n",
    "        feed_dict={\n",
    "            X: X_valid,\n",
    "            Y: y_valid,\n",
    "            keep_prob: 1})\n",
    "\n",
    "        test_losses.append(final_loss)\n",
    "        test_accuracies.append(accuracy)\n",
    "\n",
    "        print(\"FINAL RESULT: \" + \\\n",
    "            \"Batch Loss = {}\".format(final_loss) + \\\n",
    "            \", Accuracy = {}\".format(accuracy))\n",
    "        \n",
    "        \n",
    "        predictions = apredictions.argmax(1)\n",
    "\n",
    "        print(\"Testing Accuracy: {}%\".format(100*accuracy))\n",
    "\n",
    "\n",
    "\n",
    "\n",
    "        return parameters,test_losses,test_accuracies,train_losses,train_accuracies"
   ]
  },
  {
   "cell_type": "code",
   "execution_count": 30,
   "metadata": {},
   "outputs": [
    {
     "name": "stdout",
     "output_type": "stream",
     "text": [
      "epoch iter #3:Batch Loss = 0.104529, Accuracy = 0.9754098653793335\n",
      "PERFORMANCE ON TEST SET: Batch Loss = 0.48741230368614197, Accuracy = 0.8585394024848938\n",
      "epoch iter #4:Batch Loss = 0.091535, Accuracy = 0.9754098653793335\n",
      "PERFORMANCE ON TEST SET: Batch Loss = 0.4645811915397644, Accuracy = 0.866302490234375\n",
      "epoch iter #5:Batch Loss = 0.085357, Accuracy = 0.9754098653793335\n",
      "PERFORMANCE ON TEST SET: Batch Loss = 0.4679747223854065, Accuracy = 0.8723404407501221\n",
      "epoch iter #6:Batch Loss = 0.042573, Accuracy = 1.0\n",
      "PERFORMANCE ON TEST SET: Batch Loss = 0.4802389144897461, Accuracy = 0.8631397485733032\n",
      "epoch iter #7:Batch Loss = 0.076087, Accuracy = 0.9754098653793335\n",
      "PERFORMANCE ON TEST SET: Batch Loss = 0.5422912836074829, Accuracy = 0.8556641936302185\n",
      "epoch iter #8:Batch Loss = 0.128668, Accuracy = 0.9590163826942444\n",
      "PERFORMANCE ON TEST SET: Batch Loss = 0.5030009150505066, Accuracy = 0.8542265892028809\n",
      "epoch iter #9:Batch Loss = 0.044058, Accuracy = 0.9918032884597778\n",
      "PERFORMANCE ON TEST SET: Batch Loss = 0.5312680006027222, Accuracy = 0.8608395457267761\n",
      "epoch iter #10:Batch Loss = 0.038126, Accuracy = 0.9918032884597778\n",
      "PERFORMANCE ON TEST SET: Batch Loss = 0.5561806559562683, Accuracy = 0.8507763147354126\n"
     ]
    },
    {
     "ename": "KeyboardInterrupt",
     "evalue": "",
     "output_type": "error",
     "traceback": [
      "\u001b[0;31m---------------------------------------------------------------------------\u001b[0m",
      "\u001b[0;31mKeyboardInterrupt\u001b[0m                         Traceback (most recent call last)",
      "\u001b[0;32m<ipython-input-30-f3167ba3b11a>\u001b[0m in \u001b[0;36m<module>\u001b[0;34m()\u001b[0m\n\u001b[0;32m----> 1\u001b[0;31m \u001b[0m_\u001b[0m\u001b[0;34m,\u001b[0m\u001b[0mtest_losses\u001b[0m\u001b[0;34m,\u001b[0m\u001b[0mtest_accuracies\u001b[0m\u001b[0;34m,\u001b[0m\u001b[0mtrain_losses\u001b[0m\u001b[0;34m,\u001b[0m\u001b[0mtrain_accuracies\u001b[0m \u001b[0;34m=\u001b[0m \u001b[0mmodel\u001b[0m\u001b[0;34m(\u001b[0m\u001b[0mX_train\u001b[0m\u001b[0;34m,\u001b[0m \u001b[0my_train\u001b[0m\u001b[0;34m,\u001b[0m \u001b[0mX_valid\u001b[0m\u001b[0;34m,\u001b[0m \u001b[0my_valid\u001b[0m\u001b[0;34m)\u001b[0m\u001b[0;34m\u001b[0m\u001b[0m\n\u001b[0m",
      "\u001b[0;32m<ipython-input-29-d3c43f4dab16>\u001b[0m in \u001b[0;36mmodel\u001b[0;34m(X_train, y_train, X_valid, y_valid, learning_rate, num_epochs, minibatch_size, print_cost)\u001b[0m\n\u001b[1;32m     56\u001b[0m                 [optimizer, cost, accuracy],feed_dict={X: minibatch_x, \n\u001b[1;32m     57\u001b[0m                                                        \u001b[0mY\u001b[0m\u001b[0;34m:\u001b[0m \u001b[0mminibatch_y\u001b[0m\u001b[0;34m,\u001b[0m\u001b[0;34m\u001b[0m\u001b[0m\n\u001b[0;32m---> 58\u001b[0;31m                                                        keep_prob: 0.5})\n\u001b[0m\u001b[1;32m     59\u001b[0m                 \u001b[0mtrain_losses\u001b[0m\u001b[0;34m.\u001b[0m\u001b[0mappend\u001b[0m\u001b[0;34m(\u001b[0m\u001b[0mloss\u001b[0m\u001b[0;34m)\u001b[0m\u001b[0;34m\u001b[0m\u001b[0m\n\u001b[1;32m     60\u001b[0m                 \u001b[0mtrain_accuracies\u001b[0m\u001b[0;34m.\u001b[0m\u001b[0mappend\u001b[0m\u001b[0;34m(\u001b[0m\u001b[0macc\u001b[0m\u001b[0;34m)\u001b[0m\u001b[0;34m\u001b[0m\u001b[0m\n",
      "\u001b[0;32m~/.conda/envs/myenv1/lib/python3.6/site-packages/tensorflow/python/client/session.py\u001b[0m in \u001b[0;36mrun\u001b[0;34m(self, fetches, feed_dict, options, run_metadata)\u001b[0m\n\u001b[1;32m    903\u001b[0m     \u001b[0;32mtry\u001b[0m\u001b[0;34m:\u001b[0m\u001b[0;34m\u001b[0m\u001b[0m\n\u001b[1;32m    904\u001b[0m       result = self._run(None, fetches, feed_dict, options_ptr,\n\u001b[0;32m--> 905\u001b[0;31m                          run_metadata_ptr)\n\u001b[0m\u001b[1;32m    906\u001b[0m       \u001b[0;32mif\u001b[0m \u001b[0mrun_metadata\u001b[0m\u001b[0;34m:\u001b[0m\u001b[0;34m\u001b[0m\u001b[0m\n\u001b[1;32m    907\u001b[0m         \u001b[0mproto_data\u001b[0m \u001b[0;34m=\u001b[0m \u001b[0mtf_session\u001b[0m\u001b[0;34m.\u001b[0m\u001b[0mTF_GetBuffer\u001b[0m\u001b[0;34m(\u001b[0m\u001b[0mrun_metadata_ptr\u001b[0m\u001b[0;34m)\u001b[0m\u001b[0;34m\u001b[0m\u001b[0m\n",
      "\u001b[0;32m~/.conda/envs/myenv1/lib/python3.6/site-packages/tensorflow/python/client/session.py\u001b[0m in \u001b[0;36m_run\u001b[0;34m(self, handle, fetches, feed_dict, options, run_metadata)\u001b[0m\n\u001b[1;32m   1138\u001b[0m     \u001b[0;32mif\u001b[0m \u001b[0mfinal_fetches\u001b[0m \u001b[0;32mor\u001b[0m \u001b[0mfinal_targets\u001b[0m \u001b[0;32mor\u001b[0m \u001b[0;34m(\u001b[0m\u001b[0mhandle\u001b[0m \u001b[0;32mand\u001b[0m \u001b[0mfeed_dict_tensor\u001b[0m\u001b[0;34m)\u001b[0m\u001b[0;34m:\u001b[0m\u001b[0;34m\u001b[0m\u001b[0m\n\u001b[1;32m   1139\u001b[0m       results = self._do_run(handle, final_targets, final_fetches,\n\u001b[0;32m-> 1140\u001b[0;31m                              feed_dict_tensor, options, run_metadata)\n\u001b[0m\u001b[1;32m   1141\u001b[0m     \u001b[0;32melse\u001b[0m\u001b[0;34m:\u001b[0m\u001b[0;34m\u001b[0m\u001b[0m\n\u001b[1;32m   1142\u001b[0m       \u001b[0mresults\u001b[0m \u001b[0;34m=\u001b[0m \u001b[0;34m[\u001b[0m\u001b[0;34m]\u001b[0m\u001b[0;34m\u001b[0m\u001b[0m\n",
      "\u001b[0;32m~/.conda/envs/myenv1/lib/python3.6/site-packages/tensorflow/python/client/session.py\u001b[0m in \u001b[0;36m_do_run\u001b[0;34m(self, handle, target_list, fetch_list, feed_dict, options, run_metadata)\u001b[0m\n\u001b[1;32m   1319\u001b[0m     \u001b[0;32mif\u001b[0m \u001b[0mhandle\u001b[0m \u001b[0;32mis\u001b[0m \u001b[0;32mNone\u001b[0m\u001b[0;34m:\u001b[0m\u001b[0;34m\u001b[0m\u001b[0m\n\u001b[1;32m   1320\u001b[0m       return self._do_call(_run_fn, feeds, fetches, targets, options,\n\u001b[0;32m-> 1321\u001b[0;31m                            run_metadata)\n\u001b[0m\u001b[1;32m   1322\u001b[0m     \u001b[0;32melse\u001b[0m\u001b[0;34m:\u001b[0m\u001b[0;34m\u001b[0m\u001b[0m\n\u001b[1;32m   1323\u001b[0m       \u001b[0;32mreturn\u001b[0m \u001b[0mself\u001b[0m\u001b[0;34m.\u001b[0m\u001b[0m_do_call\u001b[0m\u001b[0;34m(\u001b[0m\u001b[0m_prun_fn\u001b[0m\u001b[0;34m,\u001b[0m \u001b[0mhandle\u001b[0m\u001b[0;34m,\u001b[0m \u001b[0mfeeds\u001b[0m\u001b[0;34m,\u001b[0m \u001b[0mfetches\u001b[0m\u001b[0;34m)\u001b[0m\u001b[0;34m\u001b[0m\u001b[0m\n",
      "\u001b[0;32m~/.conda/envs/myenv1/lib/python3.6/site-packages/tensorflow/python/client/session.py\u001b[0m in \u001b[0;36m_do_call\u001b[0;34m(self, fn, *args)\u001b[0m\n\u001b[1;32m   1325\u001b[0m   \u001b[0;32mdef\u001b[0m \u001b[0m_do_call\u001b[0m\u001b[0;34m(\u001b[0m\u001b[0mself\u001b[0m\u001b[0;34m,\u001b[0m \u001b[0mfn\u001b[0m\u001b[0;34m,\u001b[0m \u001b[0;34m*\u001b[0m\u001b[0margs\u001b[0m\u001b[0;34m)\u001b[0m\u001b[0;34m:\u001b[0m\u001b[0;34m\u001b[0m\u001b[0m\n\u001b[1;32m   1326\u001b[0m     \u001b[0;32mtry\u001b[0m\u001b[0;34m:\u001b[0m\u001b[0;34m\u001b[0m\u001b[0m\n\u001b[0;32m-> 1327\u001b[0;31m       \u001b[0;32mreturn\u001b[0m \u001b[0mfn\u001b[0m\u001b[0;34m(\u001b[0m\u001b[0;34m*\u001b[0m\u001b[0margs\u001b[0m\u001b[0;34m)\u001b[0m\u001b[0;34m\u001b[0m\u001b[0m\n\u001b[0m\u001b[1;32m   1328\u001b[0m     \u001b[0;32mexcept\u001b[0m \u001b[0merrors\u001b[0m\u001b[0;34m.\u001b[0m\u001b[0mOpError\u001b[0m \u001b[0;32mas\u001b[0m \u001b[0me\u001b[0m\u001b[0;34m:\u001b[0m\u001b[0;34m\u001b[0m\u001b[0m\n\u001b[1;32m   1329\u001b[0m       \u001b[0mmessage\u001b[0m \u001b[0;34m=\u001b[0m \u001b[0mcompat\u001b[0m\u001b[0;34m.\u001b[0m\u001b[0mas_text\u001b[0m\u001b[0;34m(\u001b[0m\u001b[0me\u001b[0m\u001b[0;34m.\u001b[0m\u001b[0mmessage\u001b[0m\u001b[0;34m)\u001b[0m\u001b[0;34m\u001b[0m\u001b[0m\n",
      "\u001b[0;32m~/.conda/envs/myenv1/lib/python3.6/site-packages/tensorflow/python/client/session.py\u001b[0m in \u001b[0;36m_run_fn\u001b[0;34m(feed_dict, fetch_list, target_list, options, run_metadata)\u001b[0m\n\u001b[1;32m   1310\u001b[0m       \u001b[0mself\u001b[0m\u001b[0;34m.\u001b[0m\u001b[0m_extend_graph\u001b[0m\u001b[0;34m(\u001b[0m\u001b[0;34m)\u001b[0m\u001b[0;34m\u001b[0m\u001b[0m\n\u001b[1;32m   1311\u001b[0m       return self._call_tf_sessionrun(\n\u001b[0;32m-> 1312\u001b[0;31m           options, feed_dict, fetch_list, target_list, run_metadata)\n\u001b[0m\u001b[1;32m   1313\u001b[0m \u001b[0;34m\u001b[0m\u001b[0m\n\u001b[1;32m   1314\u001b[0m     \u001b[0;32mdef\u001b[0m \u001b[0m_prun_fn\u001b[0m\u001b[0;34m(\u001b[0m\u001b[0mhandle\u001b[0m\u001b[0;34m,\u001b[0m \u001b[0mfeed_dict\u001b[0m\u001b[0;34m,\u001b[0m \u001b[0mfetch_list\u001b[0m\u001b[0;34m)\u001b[0m\u001b[0;34m:\u001b[0m\u001b[0;34m\u001b[0m\u001b[0m\n",
      "\u001b[0;32m~/.conda/envs/myenv1/lib/python3.6/site-packages/tensorflow/python/client/session.py\u001b[0m in \u001b[0;36m_call_tf_sessionrun\u001b[0;34m(self, options, feed_dict, fetch_list, target_list, run_metadata)\u001b[0m\n\u001b[1;32m   1418\u001b[0m         return tf_session.TF_Run(\n\u001b[1;32m   1419\u001b[0m             \u001b[0mself\u001b[0m\u001b[0;34m.\u001b[0m\u001b[0m_session\u001b[0m\u001b[0;34m,\u001b[0m \u001b[0moptions\u001b[0m\u001b[0;34m,\u001b[0m \u001b[0mfeed_dict\u001b[0m\u001b[0;34m,\u001b[0m \u001b[0mfetch_list\u001b[0m\u001b[0;34m,\u001b[0m \u001b[0mtarget_list\u001b[0m\u001b[0;34m,\u001b[0m\u001b[0;34m\u001b[0m\u001b[0m\n\u001b[0;32m-> 1420\u001b[0;31m             status, run_metadata)\n\u001b[0m\u001b[1;32m   1421\u001b[0m \u001b[0;34m\u001b[0m\u001b[0m\n\u001b[1;32m   1422\u001b[0m   \u001b[0;32mdef\u001b[0m \u001b[0m_call_tf_sessionprun\u001b[0m\u001b[0;34m(\u001b[0m\u001b[0mself\u001b[0m\u001b[0;34m,\u001b[0m \u001b[0mhandle\u001b[0m\u001b[0;34m,\u001b[0m \u001b[0mfeed_dict\u001b[0m\u001b[0;34m,\u001b[0m \u001b[0mfetch_list\u001b[0m\u001b[0;34m)\u001b[0m\u001b[0;34m:\u001b[0m\u001b[0;34m\u001b[0m\u001b[0m\n",
      "\u001b[0;31mKeyboardInterrupt\u001b[0m: "
     ]
    }
   ],
   "source": [
    "_,test_losses,test_accuracies,train_losses,train_accuracies = model(X_train, y_train, X_valid, y_valid)"
   ]
  },
  {
   "cell_type": "code",
   "execution_count": null,
   "metadata": {},
   "outputs": [],
   "source": []
  }
 ],
 "metadata": {
  "kernelspec": {
   "display_name": "Python 3",
   "language": "python",
   "name": "python3"
  },
  "language_info": {
   "codemirror_mode": {
    "name": "ipython",
    "version": 3
   },
   "file_extension": ".py",
   "mimetype": "text/x-python",
   "name": "python",
   "nbconvert_exporter": "python",
   "pygments_lexer": "ipython3",
   "version": "3.6.4"
  },
  "varInspector": {
   "cols": {
    "lenName": 16,
    "lenType": 16,
    "lenVar": 40
   },
   "kernels_config": {
    "python": {
     "delete_cmd_postfix": "",
     "delete_cmd_prefix": "del ",
     "library": "var_list.py",
     "varRefreshCmd": "print(var_dic_list())"
    },
    "r": {
     "delete_cmd_postfix": ") ",
     "delete_cmd_prefix": "rm(",
     "library": "var_list.r",
     "varRefreshCmd": "cat(var_dic_list()) "
    }
   },
   "types_to_exclude": [
    "module",
    "function",
    "builtin_function_or_method",
    "instance",
    "_Feature"
   ],
   "window_display": false
  }
 },
 "nbformat": 4,
 "nbformat_minor": 2
}
