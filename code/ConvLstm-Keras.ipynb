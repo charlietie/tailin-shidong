{
 "cells": [
  {
   "cell_type": "code",
   "execution_count": 2,
   "metadata": {},
   "outputs": [],
   "source": [
    "import tensorflow as tf\n",
    "import os\n",
    "import time\n",
    "\n",
    "import numpy as np\n",
    "import pandas as pd\n",
    "import scipy.io  # load the matrix file\n",
    "import pickle as cp\n",
    "\n",
    "import keras\n",
    "from keras.utils import to_categorical\n",
    "from keras.models import Sequential\n",
    "from keras.layers import Conv2D, MaxPooling2D, LSTM, Dense, Dropout, Flatten\n",
    "from keras.layers.core import Permute, Reshape\n",
    "from keras import backend as K\n",
    "from keras.callbacks import TensorBoard\n",
    "\n",
    "from sklearn.model_selection import train_test_split\n",
    "\n",
    "from tensorflow.contrib import rnn\n",
    "from tensorflow.python.framework import ops\n",
    "\n",
    "from sliding_window import sliding_window\n",
    "\n",
    "os.environ['TF_CPP_MIN_LOG_LEVEL'] = '2'\n",
    "import sklearn.metrics as metrics"
   ]
  },
  {
   "cell_type": "markdown",
   "metadata": {},
   "source": [
    "## 1. Reading Opportunity Dataset"
   ]
  },
  {
   "cell_type": "code",
   "execution_count": 4,
   "metadata": {
    "scrolled": false
   },
   "outputs": [
    {
     "name": "stdout",
     "output_type": "stream",
     "text": [
      "Loading data...\n",
      " ..from file C:/Users/41762/Dropbox/Dataset/Opportunity/gestures_wearable_ambient.data\n",
      " ..reading instances: X_train (557963, 210), X_test (118750, 210)\n",
      " ..reading instances: y_train (557963,), y_test (118750,)\n",
      "Successfully\n",
      "------------------------------------------------------------\n",
      "Data normalizing...\n",
      "Data normalized...\n",
      "------------------------------------------------------------\n",
      "Spliting the data into F & A... \n",
      "Successfully\n",
      "------------------------------------------------------------\n",
      "17 actual activities and 1 NaN activity,\n",
      "Total 18 Classes\n",
      "F_train shape is  (557963, 113)\n",
      "F_test shape is  (118750, 113)\n",
      "A_train shape is  (557963, 97)\n",
      "A_test shape is  (118750, 97)\n",
      "y_train shape is  (557963,)\n",
      "y_test shape is  (118750,)\n",
      "------------------------------------------------------------\n",
      "Opperating sliding window...\n",
      " ..after sliding window (training):\n",
      " inputs : (wearable sensor data) F_train0(46495, 24, 113) , (ambient sensor data) A_train0(46495, 24, 97), targets(label) y_train0 (46495,)\n",
      " ..after sliding window (testing):\n",
      " inputs : (wearable sensor data) F_test0(9894, 24, 113) , (ambient sensor data) A_test0(9894, 24, 97), targets(label) y_test0 (9894,)\n",
      "Successfully\n",
      "------------------------------------------------------------\n",
      "Changing targets shape... (One-Hot Encoder for cross-entropy loss ) \n",
      "Before transforming: y_train0 shape (46495,), y_test0 shape (9894,) \n",
      "After transforming: y_train1 shape (46495, 18),y_test1 shape (9894, 18)\n",
      "Successfully\n",
      "------------------------------------------------------------\n",
      "X_train shape (46495, 24, 113, 1)\n",
      "X_valid shape (9894, 24, 113, 1)\n",
      "y_train.shape(46495, 18)\n",
      "y_train.shape(46495, 18)\n",
      "Reshape the X_train and X_valid for CNN input\n",
      "X_train_cnn shape (46495, 113, 24, 1)\n",
      "X_valid_cnn shape (9894, 113, 24, 1)\n",
      "X_train.shape(46495, 18)\n",
      "y_train.shape(46495, 18)\n"
     ]
    }
   ],
   "source": [
    "def load_dataset(filename):\n",
    "    \"\"\"\n",
    "    Function to load dataset\n",
    "\n",
    "    Argument:\n",
    "        filename : the path of the preprocessed dataset\n",
    "\n",
    "    Return:\n",
    "\n",
    "        X_train\n",
    "        y_train\n",
    "        X_test\n",
    "        y_test\n",
    "\n",
    "    Notice:\n",
    "        Need use `pickle(python3)` or`cpicckle(python2)` module to load and read dataset.\n",
    "\n",
    "\n",
    "    \"\"\"\n",
    "\n",
    "    f = open(filename, 'rb')\n",
    "    data = cp.load(f)\n",
    "    f.close()\n",
    "\n",
    "    X_train, y_train = data[0]\n",
    "    X_test, y_test = data[1]\n",
    "\n",
    "    print(\" ..from file {}\".format(filename))\n",
    "    print(\" ..reading instances: X_train {0}, X_test {1}\".format(\n",
    "        X_train.shape, X_test.shape))\n",
    "    print(\" ..reading instances: y_train {0}, y_test {1}\".format(\n",
    "        y_train.shape, y_test.shape))\n",
    "\n",
    "    X_train = X_train.astype(np.float32)\n",
    "    X_test = X_test.astype(np.float32)\n",
    "\n",
    "    # The targets are casted to int8 for GPU compatibility.\n",
    "    y_train = y_train.astype(np.uint8)\n",
    "    y_test = y_test.astype(np.uint8)\n",
    "\n",
    "    return X_train, y_train, X_test, y_test\n",
    "\n",
    "\n",
    "print(\"Loading data...\")\n",
    "# X_train, y_train, X_test, y_test = load_dataset('DeepConvLSTM/data/gestures_wearable_ambient.data')\n",
    "X_train, y_train, X_test, y_test = load_dataset('C:/Users/41762/Dropbox/Dataset/Opportunity/gestures_wearable_ambient.data')\n",
    "# /Users/chentailin/sharedfolder/Human-Activity-Recognition-CodeHub/opportinity-dataset/DeepConvLSTM/data/gestures_wearable_ambient.data\n",
    "\n",
    "X_train_origin = X_train.copy()\n",
    "y_train_origin = y_train.copy()\n",
    "X_test_origin, y_test_origin = X_test.copy(), y_test.copy()\n",
    "\n",
    "print(\"Successfully\")\n",
    "\n",
    "print(\"---\" * 20)\n",
    "\n",
    "# Normalization the Raw data\n",
    "\n",
    "\n",
    "def normalization_x_y(x, y):\n",
    "    \"\"\"\n",
    "    Stack x and y, then do normalization\n",
    "    Then return DataFrame x and y\n",
    "    \"\"\"\n",
    "    print(\"Data normalizing...\")\n",
    "    data = np.vstack((x, y))\n",
    "    df = pd.DataFrame(data)\n",
    "    df = (df - df.min()) / (df.max() - df.min())\n",
    "\n",
    "    data_x = df.iloc[:557963, ]\n",
    "    data_y = df.iloc[557963:, ]\n",
    "\n",
    "    data_x = np.array(data_x)\n",
    "    data_y = np.array(data_y)\n",
    "\n",
    "    print(\"Data normalized...\")\n",
    "    return data_x, data_y\n",
    "\n",
    "\n",
    "# Normalization the whole dataset\n",
    "X_train_nor, X_test_nor = normalization_x_y(X_train, X_test)\n",
    "\n",
    "\n",
    "# split the wearable sensor data and ambient sensor data\n",
    "print(\"---\" * 20)\n",
    "print(\"Spliting the data into F & A... \")\n",
    "X_train_F = X_train_nor[:, :113]\n",
    "X_train_A = X_train_nor[:, 113:]\n",
    "\n",
    "X_test_F = X_test_nor[:, :113]\n",
    "X_test_A = X_test_nor[:, 113:]\n",
    "\n",
    "# More clearly split\n",
    "F_train = X_train_F\n",
    "F_test = X_test_F\n",
    "\n",
    "A_train = X_train_A\n",
    "A_test = X_test_A\n",
    "print(\"Successfully\")\n",
    "\n",
    "print(\"---\" * 20)\n",
    "print(\"{0} actual activities and 1 NaN activity,\\nTotal 18 Classes\".format(y_train.max()))\n",
    "\n",
    "# Opportunity num_classes = 18\n",
    "num_classes = 18\n",
    "\n",
    "print(\"F_train shape is \", F_train.shape)\n",
    "print(\"F_test shape is \", F_test.shape)\n",
    "\n",
    "print(\"A_train shape is \", A_train.shape)\n",
    "print(\"A_test shape is \", A_test.shape)\n",
    "\n",
    "\n",
    "print(\"y_train shape is \", y_train.shape)\n",
    "print(\"y_test shape is \", y_test.shape)\n",
    "\n",
    "print(\"---\" * 20)\n",
    "\n",
    "print(\"Opperating sliding window...\")\n",
    "\"\"\"\n",
    "Define Sliding Window\n",
    "\"\"\"\n",
    "SLIDING_WINDOW_LENGTH = 24\n",
    "SLIDING_WINDOW_STEP = 12\n",
    "\n",
    "# from sliding_window import sliding_window\n",
    "# ?sliding_window\n",
    "\n",
    "# assert NB_SENSOR_CHANNELS == X_train.shape[1]\n",
    "\n",
    "\n",
    "def opp_sliding_window(data_x, data_a, data_y, ws, ss):\n",
    "    \"\"\"\n",
    "   Parameters: (F_train,A_train,y_train,window_size,step_size)\n",
    "\n",
    "    \"\"\"\n",
    "    data_x = sliding_window(a=data_x, ws=(\n",
    "        ws, data_x.shape[1]), ss=(ss, 1), flatten=False)\n",
    "#     data_x = sliding_window(data_x,ws,ss)\n",
    "    data_a = sliding_window(a=data_a, ws=(\n",
    "        ws, data_a.shape[1]), ss=(ss, 1), flatten=False)\n",
    "    data_y = np.asarray([[i[-1]]\n",
    "                         for i in sliding_window(data_y, ws, ss, flatten=False)])\n",
    "    return data_x.reshape(-1, ws, data_x.shape[3]).astype(np.float32), data_a.reshape(-1, ws, data_a.shape[3]).astype(np.float32), data_y.reshape(-1).astype(np.uint8)\n",
    "#     return data_x.astype(np.float32), data_y.flatten().astype(np.uint8)\n",
    "\n",
    "\n",
    "F_train0, A_train0, y_train0 = opp_sliding_window(\n",
    "    F_train, A_train, y_train, SLIDING_WINDOW_LENGTH, SLIDING_WINDOW_STEP)\n",
    "print(\" ..after sliding window (training):\\n inputs : (wearable sensor data) F_train0{0} , (ambient sensor data) A_train0{1}, targets(label) y_train0 {2}\".format(\n",
    "    F_train0.shape, A_train0.shape, y_train0.shape))\n",
    "\n",
    "F_test0, A_test0, y_test0 = opp_sliding_window(\n",
    "    F_test, A_test, y_test, SLIDING_WINDOW_LENGTH, SLIDING_WINDOW_STEP)\n",
    "print(\" ..after sliding window (testing):\\n inputs : (wearable sensor data) F_test0{0} , (ambient sensor data) A_test0{1}, targets(label) y_test0 {2}\".format(\n",
    "    F_test0.shape, A_test0.shape, y_test0.shape))\n",
    "\n",
    "print(\"Successfully\")\n",
    "print(\"---\" * 20)\n",
    "\n",
    "\n",
    "print(\"Changing targets shape... (One-Hot Encoder for cross-entropy loss ) \")\n",
    "y_train1 = to_categorical(y=y_train0, num_classes=num_classes)\n",
    "y_test1 = to_categorical(y=y_test0, num_classes=num_classes)\n",
    "print(\"Before transforming: y_train0 shape {0}, y_test0 shape {2} \\nAfter transforming: y_train1 shape {1},y_test1 shape {3}\".format(\n",
    "    y_train0.shape, y_train1.shape, y_test0.shape, y_test1.shape))\n",
    "\n",
    "print(\"Successfully\")\n",
    "\n",
    "print(\"---\" * 20)\n",
    "X_train = np.reshape(\n",
    "    F_train0, (F_train0.shape[0], F_train0.shape[1], F_train0.shape[2], 1))  # reshape末尾增加1维\n",
    "X_valid = np.reshape(\n",
    "    F_test0, (F_test0.shape[0], F_test0.shape[1], F_test0.shape[2], 1))\n",
    "y_train = y_train1\n",
    "y_valid = y_test1\n",
    "\n",
    "\n",
    "print(\"X_train shape\", X_train.shape)\n",
    "print(\"X_valid shape\", X_valid.shape)\n",
    "print('y_train.shape' + str(y_train.shape))\n",
    "print('y_train.shape' + str(y_train.shape))\n",
    "\n",
    "print(\"Reshape the X_train and X_valid for CNN input\")\n",
    "X_train_cnn = np.swapaxes(X_train, 1, 2)  # 就是将第三个维度和第二个维度交换\n",
    "X_valid_cnn = np.swapaxes(X_valid, 1, 2)\n",
    "\n",
    "print(\"X_train_cnn shape\", X_train_cnn.shape)\n",
    "print(\"X_valid_cnn shape\", X_valid_cnn.shape)\n",
    "print('X_train.shape' + str(y_train.shape))\n",
    "print('y_train.shape' + str(y_train.shape))"
   ]
  },
  {
   "cell_type": "markdown",
   "metadata": {},
   "source": [
    "\n",
    "## Now, all the data are prepared to be input into the Deep Model\n",
    "\n",
    "- ` F_train0 ` ------> ` y_train1 ` <------` A_train0 `\n",
    "\n",
    "- ` F_test0 ` ------>   ` y_test1 ` <------` A_test0 `\n",
    "\n",
    "--- "
   ]
  },
  {
   "cell_type": "markdown",
   "metadata": {},
   "source": [
    "## 2. Building TensorFlow Model"
   ]
  },
  {
   "cell_type": "markdown",
   "metadata": {},
   "source": [
    "Because we noly choose **F** as the feature and **y** as the label\n",
    "- Let \n",
    "        X_train =F_train0\n",
    "        X_test = F_test0\n",
    "        y_train = y_train1\n",
    "        y_test = y_test1"
   ]
  },
  {
   "cell_type": "code",
   "execution_count": 5,
   "metadata": {},
   "outputs": [
    {
     "data": {
      "text/plain": [
       "(9894, 24, 113)"
      ]
     },
     "execution_count": 5,
     "metadata": {},
     "output_type": "execute_result"
    }
   ],
   "source": [
    "F_train0.shape\n",
    "F_test0.shape"
   ]
  },
  {
   "cell_type": "code",
   "execution_count": 6,
   "metadata": {},
   "outputs": [
    {
     "name": "stdout",
     "output_type": "stream",
     "text": [
      "X_train shape (46495, 24, 113, 1)\n",
      "X_valid shape (9894, 24, 113, 1)\n"
     ]
    }
   ],
   "source": [
    "X_train = np.reshape(F_train0,(F_train0.shape[0],F_train0.shape[1],F_train0.shape[2],1)) # reshape末尾增加1维\n",
    "X_valid = np.reshape(F_test0,(F_test0.shape[0],F_test0.shape[1],F_test0.shape[2],1))\n",
    "y_train = y_train1\n",
    "y_valid = y_test1\n",
    "\n",
    "\n",
    "print(\"X_train shape\" , X_train.shape)\n",
    "print(\"X_valid shape\" , X_valid.shape)\n"
   ]
  },
  {
   "cell_type": "code",
   "execution_count": 7,
   "metadata": {
    "scrolled": true
   },
   "outputs": [
    {
     "name": "stdout",
     "output_type": "stream",
     "text": [
      "X_train.shape(46495, 24, 113, 1)\n",
      "Y_train.shape(46495, 18)\n"
     ]
    }
   ],
   "source": [
    "print('X_train.shape' + str(X_train.shape))\n",
    "print('Y_train.shape' + str(y_train.shape))"
   ]
  },
  {
   "cell_type": "markdown",
   "metadata": {},
   "source": [
    "**Define the model**"
   ]
  },
  {
   "cell_type": "markdown",
   "metadata": {},
   "source": [
    "# 2. Define the `ConvLstm` Model"
   ]
  },
  {
   "cell_type": "code",
   "execution_count": 8,
   "metadata": {},
   "outputs": [],
   "source": [
    "def model_variant(model, num_feat_map, dim, network_type):\n",
    "    print(network_type)\n",
    "    if network_type == 'ConvLSTM':\n",
    "        model.add(Permute((2, 1, 3))) # for swap-dimension\n",
    "        model.add(Reshape((-1,num_feat_map*dim)))\n",
    "        model.add(LSTM(32, return_sequences=False, stateful=False))\n",
    "        model.add(Dropout(0.2))\n",
    "    if network_type == 'CNN':\n",
    "         \n",
    "        model.add(Flatten())\n",
    "        model.add(Dense(32, activation='relu'))\n",
    "        model.add(Dropout(0.2))\n",
    "\n",
    "def model_conv(model, num_feat_map):\n",
    "    model.add(Conv2D(num_feat_map, kernel_size=(1, 5),\n",
    "                 activation='relu',\n",
    "                 input_shape=(dim, win_len, 1),\n",
    "                 padding='same'))\n",
    "    \n",
    "    model.add(MaxPooling2D(pool_size=(1, 2)))\n",
    "    model.add(Dropout(0.2))\n",
    "    model.add(Conv2D(num_feat_map, \n",
    "                     kernel_size=(1, 5), \n",
    "                     activation='relu',\n",
    "                     padding='same'))\n",
    "    \n",
    "    model.add(MaxPooling2D(pool_size=(1, 2)))\n",
    "    model.add(Dropout(0.2))\n",
    "     \n",
    "\n",
    "def model_LSTM(model):\n",
    "    model.add(LSTM(num_hidden_lstm, \n",
    "               input_shape=(win_len,dim), \n",
    "               return_sequences=True))\n",
    "    model.add(Dropout(0.2))\n",
    "    model.add(LSTM(num_hidden_lstm, return_sequences=False))\n",
    "    model.add(Dropout(0.2))\n",
    "\n",
    "# def model_LSTM(model):\n",
    "    \n",
    "\n",
    "# ### def model_MLP(model, num_hidden_mlp):\n",
    "#     model.add(Dense(num_hidden_mlp, activation='relu', input_shape=(dim*win_len,)))\n",
    "#     model.add(Dropout(0.5))\n",
    "#     model.add(Dense(num_hidden_mlp, activation='relu'))\n",
    "#     model.add(Dropout(0.5))\n",
    "\n",
    "def model_output(model):\n",
    "    model.add(Dense(num_classes, activation='softmax'))"
   ]
  },
  {
   "cell_type": "code",
   "execution_count": 9,
   "metadata": {},
   "outputs": [],
   "source": [
    "batch_size = 128\n",
    "num_feat_map = 16\n",
    "num_hidden_mlp = 128\n",
    "num_hidden_lstm = 64\n",
    "\n"
   ]
  },
  {
   "cell_type": "code",
   "execution_count": 10,
   "metadata": {},
   "outputs": [],
   "source": [
    "network_type = 'ConvLSTM'"
   ]
  },
  {
   "cell_type": "code",
   "execution_count": 11,
   "metadata": {},
   "outputs": [
    {
     "data": {
      "text/plain": [
       "(46495, 24, 113, 1)"
      ]
     },
     "execution_count": 11,
     "metadata": {},
     "output_type": "execute_result"
    }
   ],
   "source": [
    "X_train.shape"
   ]
  },
  {
   "cell_type": "code",
   "execution_count": 12,
   "metadata": {},
   "outputs": [],
   "source": [
    "\n",
    "_, win_len, dim,nc= X_train.shape\n"
   ]
  },
  {
   "cell_type": "code",
   "execution_count": 13,
   "metadata": {},
   "outputs": [
    {
     "data": {
      "text/plain": [
       "(46495, 113, 24, 1)"
      ]
     },
     "execution_count": 13,
     "metadata": {},
     "output_type": "execute_result"
    }
   ],
   "source": [
    "X_train_cnn.shape"
   ]
  },
  {
   "cell_type": "code",
   "execution_count": 14,
   "metadata": {},
   "outputs": [],
   "source": [
    "model = Sequential()"
   ]
  },
  {
   "cell_type": "code",
   "execution_count": 15,
   "metadata": {},
   "outputs": [
    {
     "name": "stdout",
     "output_type": "stream",
     "text": [
      "ConvLSTM\n"
     ]
    }
   ],
   "source": [
    "if network_type=='CNN' or network_type=='ConvLSTM':\n",
    "    model_conv(model, num_feat_map)\n",
    "    model_variant(model, num_feat_map, dim, network_type)\n",
    "if network_type=='LSTM':\n",
    "    model_LSTM(model)\n",
    "if network_type=='MLP': \n",
    "    model_MLP(model, num_hidden_mlp) \n",
    "    "
   ]
  },
  {
   "cell_type": "code",
   "execution_count": 16,
   "metadata": {
    "scrolled": true
   },
   "outputs": [
    {
     "name": "stdout",
     "output_type": "stream",
     "text": [
      "(46495, 113, 24, 1)\n",
      "_________________________________________________________________\n",
      "Layer (type)                 Output Shape              Param #   \n",
      "=================================================================\n",
      "conv2d_1 (Conv2D)            (None, 113, 24, 16)       96        \n",
      "_________________________________________________________________\n",
      "max_pooling2d_1 (MaxPooling2 (None, 113, 12, 16)       0         \n",
      "_________________________________________________________________\n",
      "dropout_1 (Dropout)          (None, 113, 12, 16)       0         \n",
      "_________________________________________________________________\n",
      "conv2d_2 (Conv2D)            (None, 113, 12, 16)       1296      \n",
      "_________________________________________________________________\n",
      "max_pooling2d_2 (MaxPooling2 (None, 113, 6, 16)        0         \n",
      "_________________________________________________________________\n",
      "dropout_2 (Dropout)          (None, 113, 6, 16)        0         \n",
      "_________________________________________________________________\n",
      "permute_1 (Permute)          (None, 6, 113, 16)        0         \n",
      "_________________________________________________________________\n",
      "reshape_1 (Reshape)          (None, 6, 1808)           0         \n",
      "_________________________________________________________________\n",
      "lstm_1 (LSTM)                (None, 32)                235648    \n",
      "_________________________________________________________________\n",
      "dropout_3 (Dropout)          (None, 32)                0         \n",
      "_________________________________________________________________\n",
      "dense_1 (Dense)              (None, 18)                594       \n",
      "=================================================================\n",
      "Total params: 237,634\n",
      "Trainable params: 237,634\n",
      "Non-trainable params: 0\n",
      "_________________________________________________________________\n"
     ]
    }
   ],
   "source": [
    "print(X_train_cnn.shape)\n",
    "model_output(model)    \n",
    "model.summary()"
   ]
  },
  {
   "cell_type": "markdown",
   "metadata": {},
   "source": [
    "# 3. Compile the model\n",
    "- Chose `F1-Score` and `Cross-entropy Loss` and `Confusion Matrix` as the metrics"
   ]
  },
  {
   "cell_type": "code",
   "execution_count": 17,
   "metadata": {},
   "outputs": [
    {
     "name": "stdout",
     "output_type": "stream",
     "text": [
      "(118750, 210)\n",
      "(118750,)\n"
     ]
    }
   ],
   "source": [
    "from keras import metrics\n",
    "\n",
    "model.compile(loss=keras.losses.categorical_crossentropy,\n",
    "              optimizer=keras.optimizers.Adam(),\n",
    "              metrics=['accuracy'])\n",
    "\n",
    "tensorboardCallBack = TensorBoard(log_dir='./Opportunity-Graph', histogram_freq=0, write_graph=True, write_images=True)\n",
    "\n",
    "print(X_test.shape)\n",
    "print(y_test.shape)"
   ]
  },
  {
   "cell_type": "code",
   "execution_count": 19,
   "metadata": {
    "scrolled": true
   },
   "outputs": [
    {
     "name": "stdout",
     "output_type": "stream",
     "text": [
      "Train on 46495 samples, validate on 9894 samples\n",
      "Epoch 1/20\n",
      "46495/46495 [==============================] - 15s 330us/step - loss: 1.4807 - acc: 0.6919 - val_loss: 0.9087 - val_acc: 0.8325\n",
      "Epoch 2/20\n",
      "46495/46495 [==============================] - 10s 217us/step - loss: 1.4912 - acc: 0.6955 - val_loss: 0.9116 - val_acc: 0.8325\n",
      "Epoch 3/20\n",
      "46495/46495 [==============================] - 10s 218us/step - loss: 1.4843 - acc: 0.6957 - val_loss: 0.9122 - val_acc: 0.8325\n",
      "Epoch 4/20\n",
      "46495/46495 [==============================] - 10s 219us/step - loss: 1.4817 - acc: 0.6957 - val_loss: 0.9135 - val_acc: 0.8325\n",
      "Epoch 5/20\n",
      "46495/46495 [==============================] - 10s 220us/step - loss: 1.4784 - acc: 0.6957 - val_loss: 0.9138 - val_acc: 0.8325\n",
      "Epoch 6/20\n",
      "46495/46495 [==============================] - 10s 217us/step - loss: 1.4760 - acc: 0.6957 - val_loss: 0.9139 - val_acc: 0.8325\n",
      "Epoch 7/20\n",
      "46495/46495 [==============================] - 10s 217us/step - loss: 1.4724 - acc: 0.6957 - val_loss: 0.9145 - val_acc: 0.8325\n",
      "Epoch 8/20\n",
      "46495/46495 [==============================] - 10s 217us/step - loss: 1.4724 - acc: 0.6957 - val_loss: 0.9144 - val_acc: 0.8325\n",
      "Epoch 9/20\n",
      "46495/46495 [==============================] - 10s 217us/step - loss: 1.4699 - acc: 0.6957 - val_loss: 0.9154 - val_acc: 0.8325\n",
      "Epoch 10/20\n",
      "46495/46495 [==============================] - 10s 221us/step - loss: 1.4700 - acc: 0.6957 - val_loss: 0.9159 - val_acc: 0.8325\n",
      "Epoch 11/20\n",
      "46495/46495 [==============================] - 10s 218us/step - loss: 1.4681 - acc: 0.6957 - val_loss: 0.9155 - val_acc: 0.8325\n",
      "Epoch 12/20\n",
      "46495/46495 [==============================] - 10s 224us/step - loss: 1.4681 - acc: 0.6957 - val_loss: 0.9162 - val_acc: 0.8325\n",
      "Epoch 13/20\n",
      "46495/46495 [==============================] - 10s 224us/step - loss: 1.4670 - acc: 0.6957 - val_loss: 0.9159 - val_acc: 0.8325\n",
      "Epoch 14/20\n",
      "46495/46495 [==============================] - 10s 217us/step - loss: 1.4640 - acc: 0.6957 - val_loss: 0.9160 - val_acc: 0.8325\n",
      "Epoch 15/20\n",
      "46495/46495 [==============================] - 10s 217us/step - loss: 1.4736 - acc: 0.6957 - val_loss: 0.9288 - val_acc: 0.8325\n",
      "Epoch 16/20\n",
      "46495/46495 [==============================] - 10s 220us/step - loss: 1.4633 - acc: 0.6957 - val_loss: 0.9248 - val_acc: 0.8325\n",
      "Epoch 17/20\n",
      "46495/46495 [==============================] - 10s 221us/step - loss: 1.4648 - acc: 0.6957 - val_loss: 0.9253 - val_acc: 0.8325\n",
      "Epoch 18/20\n",
      "46495/46495 [==============================] - 10s 219us/step - loss: 1.4622 - acc: 0.6957 - val_loss: 0.9246 - val_acc: 0.8325\n",
      "Epoch 19/20\n",
      "46495/46495 [==============================] - 10s 220us/step - loss: 1.4612 - acc: 0.6957 - val_loss: 0.9254 - val_acc: 0.8325\n",
      "Epoch 20/20\n",
      "46495/46495 [==============================] - 10s 219us/step - loss: 1.4613 - acc: 0.6957 - val_loss: 0.9255 - val_acc: 0.8325\n"
     ]
    }
   ],
   "source": [
    "epochs =20\n",
    "H = model.fit(X_train_cnn, y_train,\n",
    "            batch_size=batch_size,\n",
    "            epochs=epochs,\n",
    "            verbose=1,\n",
    "            shuffle=False,\n",
    "            validation_data=(X_valid_cnn, y_valid),\n",
    "#             callbacks=[tensorboardCallBack]\n",
    "             )"
   ]
  },
  {
   "cell_type": "markdown",
   "metadata": {},
   "source": [
    "# 5. `f1-score` and `confusion matrix`\n",
    "macro\n",
    "- 0.5139\n",
    "- 0.5063\n",
    "- 0.4933\n",
    "- 0.4555\n",
    "- 0.4817\n",
    "- 0.4761\n",
    "- 0.5047\n",
    "- 0.5328\n",
    "- 0.5356\n",
    "- 0.5566\n",
    "- 0.5643"
   ]
  },
  {
   "cell_type": "code",
   "execution_count": 21,
   "metadata": {},
   "outputs": [
    {
     "ename": "ValueError",
     "evalue": "Error when checking input: expected conv2d_1_input to have 4 dimensions, but got array with shape (118750, 210)",
     "output_type": "error",
     "traceback": [
      "\u001b[1;31m---------------------------------------------------------------------------\u001b[0m",
      "\u001b[1;31mValueError\u001b[0m                                Traceback (most recent call last)",
      "\u001b[1;32m<ipython-input-21-14d95fc69d71>\u001b[0m in \u001b[0;36m<module>\u001b[1;34m()\u001b[0m\n\u001b[1;32m----> 1\u001b[1;33m \u001b[0mfoo\u001b[0m \u001b[1;33m=\u001b[0m \u001b[0mmodel\u001b[0m\u001b[1;33m.\u001b[0m\u001b[0mpredict_classes\u001b[0m\u001b[1;33m(\u001b[0m\u001b[0mX_test\u001b[0m\u001b[1;33m)\u001b[0m\u001b[1;33m\u001b[0m\u001b[0m\n\u001b[0m",
      "\u001b[1;32m~\\Anaconda2\\lib\\site-packages\\keras\\engine\\sequential.py\u001b[0m in \u001b[0;36mpredict_classes\u001b[1;34m(self, x, batch_size, verbose)\u001b[0m\n\u001b[0;32m    270\u001b[0m             \u001b[0mA\u001b[0m \u001b[0mnumpy\u001b[0m \u001b[0marray\u001b[0m \u001b[0mof\u001b[0m \u001b[1;32mclass\u001b[0m \u001b[0mpredictions\u001b[0m\u001b[1;33m.\u001b[0m\u001b[1;33m\u001b[0m\u001b[0m\n\u001b[0;32m    271\u001b[0m         \"\"\"\n\u001b[1;32m--> 272\u001b[1;33m         \u001b[0mproba\u001b[0m \u001b[1;33m=\u001b[0m \u001b[0mself\u001b[0m\u001b[1;33m.\u001b[0m\u001b[0mpredict\u001b[0m\u001b[1;33m(\u001b[0m\u001b[0mx\u001b[0m\u001b[1;33m,\u001b[0m \u001b[0mbatch_size\u001b[0m\u001b[1;33m=\u001b[0m\u001b[0mbatch_size\u001b[0m\u001b[1;33m,\u001b[0m \u001b[0mverbose\u001b[0m\u001b[1;33m=\u001b[0m\u001b[0mverbose\u001b[0m\u001b[1;33m)\u001b[0m\u001b[1;33m\u001b[0m\u001b[0m\n\u001b[0m\u001b[0;32m    273\u001b[0m         \u001b[1;32mif\u001b[0m \u001b[0mproba\u001b[0m\u001b[1;33m.\u001b[0m\u001b[0mshape\u001b[0m\u001b[1;33m[\u001b[0m\u001b[1;33m-\u001b[0m\u001b[1;36m1\u001b[0m\u001b[1;33m]\u001b[0m \u001b[1;33m>\u001b[0m \u001b[1;36m1\u001b[0m\u001b[1;33m:\u001b[0m\u001b[1;33m\u001b[0m\u001b[0m\n\u001b[0;32m    274\u001b[0m             \u001b[1;32mreturn\u001b[0m \u001b[0mproba\u001b[0m\u001b[1;33m.\u001b[0m\u001b[0margmax\u001b[0m\u001b[1;33m(\u001b[0m\u001b[0maxis\u001b[0m\u001b[1;33m=\u001b[0m\u001b[1;33m-\u001b[0m\u001b[1;36m1\u001b[0m\u001b[1;33m)\u001b[0m\u001b[1;33m\u001b[0m\u001b[0m\n",
      "\u001b[1;32m~\\Anaconda2\\lib\\site-packages\\keras\\engine\\training.py\u001b[0m in \u001b[0;36mpredict\u001b[1;34m(self, x, batch_size, verbose, steps)\u001b[0m\n\u001b[0;32m   1150\u001b[0m                              'argument.')\n\u001b[0;32m   1151\u001b[0m         \u001b[1;31m# Validate user data.\u001b[0m\u001b[1;33m\u001b[0m\u001b[1;33m\u001b[0m\u001b[0m\n\u001b[1;32m-> 1152\u001b[1;33m         \u001b[0mx\u001b[0m\u001b[1;33m,\u001b[0m \u001b[0m_\u001b[0m\u001b[1;33m,\u001b[0m \u001b[0m_\u001b[0m \u001b[1;33m=\u001b[0m \u001b[0mself\u001b[0m\u001b[1;33m.\u001b[0m\u001b[0m_standardize_user_data\u001b[0m\u001b[1;33m(\u001b[0m\u001b[0mx\u001b[0m\u001b[1;33m)\u001b[0m\u001b[1;33m\u001b[0m\u001b[0m\n\u001b[0m\u001b[0;32m   1153\u001b[0m         \u001b[1;32mif\u001b[0m \u001b[0mself\u001b[0m\u001b[1;33m.\u001b[0m\u001b[0mstateful\u001b[0m\u001b[1;33m:\u001b[0m\u001b[1;33m\u001b[0m\u001b[0m\n\u001b[0;32m   1154\u001b[0m             \u001b[1;32mif\u001b[0m \u001b[0mx\u001b[0m\u001b[1;33m[\u001b[0m\u001b[1;36m0\u001b[0m\u001b[1;33m]\u001b[0m\u001b[1;33m.\u001b[0m\u001b[0mshape\u001b[0m\u001b[1;33m[\u001b[0m\u001b[1;36m0\u001b[0m\u001b[1;33m]\u001b[0m \u001b[1;33m>\u001b[0m \u001b[0mbatch_size\u001b[0m \u001b[1;32mand\u001b[0m \u001b[0mx\u001b[0m\u001b[1;33m[\u001b[0m\u001b[1;36m0\u001b[0m\u001b[1;33m]\u001b[0m\u001b[1;33m.\u001b[0m\u001b[0mshape\u001b[0m\u001b[1;33m[\u001b[0m\u001b[1;36m0\u001b[0m\u001b[1;33m]\u001b[0m \u001b[1;33m%\u001b[0m \u001b[0mbatch_size\u001b[0m \u001b[1;33m!=\u001b[0m \u001b[1;36m0\u001b[0m\u001b[1;33m:\u001b[0m\u001b[1;33m\u001b[0m\u001b[0m\n",
      "\u001b[1;32m~\\Anaconda2\\lib\\site-packages\\keras\\engine\\training.py\u001b[0m in \u001b[0;36m_standardize_user_data\u001b[1;34m(self, x, y, sample_weight, class_weight, check_array_lengths, batch_size)\u001b[0m\n\u001b[0;32m    752\u001b[0m             \u001b[0mfeed_input_shapes\u001b[0m\u001b[1;33m,\u001b[0m\u001b[1;33m\u001b[0m\u001b[0m\n\u001b[0;32m    753\u001b[0m             \u001b[0mcheck_batch_axis\u001b[0m\u001b[1;33m=\u001b[0m\u001b[1;32mFalse\u001b[0m\u001b[1;33m,\u001b[0m  \u001b[1;31m# Don't enforce the batch size.\u001b[0m\u001b[1;33m\u001b[0m\u001b[0m\n\u001b[1;32m--> 754\u001b[1;33m             exception_prefix='input')\n\u001b[0m\u001b[0;32m    755\u001b[0m \u001b[1;33m\u001b[0m\u001b[0m\n\u001b[0;32m    756\u001b[0m         \u001b[1;32mif\u001b[0m \u001b[0my\u001b[0m \u001b[1;32mis\u001b[0m \u001b[1;32mnot\u001b[0m \u001b[1;32mNone\u001b[0m\u001b[1;33m:\u001b[0m\u001b[1;33m\u001b[0m\u001b[0m\n",
      "\u001b[1;32m~\\Anaconda2\\lib\\site-packages\\keras\\engine\\training_utils.py\u001b[0m in \u001b[0;36mstandardize_input_data\u001b[1;34m(data, names, shapes, check_batch_axis, exception_prefix)\u001b[0m\n\u001b[0;32m    124\u001b[0m                         \u001b[1;34m': expected '\u001b[0m \u001b[1;33m+\u001b[0m \u001b[0mnames\u001b[0m\u001b[1;33m[\u001b[0m\u001b[0mi\u001b[0m\u001b[1;33m]\u001b[0m \u001b[1;33m+\u001b[0m \u001b[1;34m' to have '\u001b[0m \u001b[1;33m+\u001b[0m\u001b[1;33m\u001b[0m\u001b[0m\n\u001b[0;32m    125\u001b[0m                         \u001b[0mstr\u001b[0m\u001b[1;33m(\u001b[0m\u001b[0mlen\u001b[0m\u001b[1;33m(\u001b[0m\u001b[0mshape\u001b[0m\u001b[1;33m)\u001b[0m\u001b[1;33m)\u001b[0m \u001b[1;33m+\u001b[0m \u001b[1;34m' dimensions, but got array '\u001b[0m\u001b[1;33m\u001b[0m\u001b[0m\n\u001b[1;32m--> 126\u001b[1;33m                         'with shape ' + str(data_shape))\n\u001b[0m\u001b[0;32m    127\u001b[0m                 \u001b[1;32mif\u001b[0m \u001b[1;32mnot\u001b[0m \u001b[0mcheck_batch_axis\u001b[0m\u001b[1;33m:\u001b[0m\u001b[1;33m\u001b[0m\u001b[0m\n\u001b[0;32m    128\u001b[0m                     \u001b[0mdata_shape\u001b[0m \u001b[1;33m=\u001b[0m \u001b[0mdata_shape\u001b[0m\u001b[1;33m[\u001b[0m\u001b[1;36m1\u001b[0m\u001b[1;33m:\u001b[0m\u001b[1;33m]\u001b[0m\u001b[1;33m\u001b[0m\u001b[0m\n",
      "\u001b[1;31mValueError\u001b[0m: Error when checking input: expected conv2d_1_input to have 4 dimensions, but got array with shape (118750, 210)"
     ]
    }
   ],
   "source": [
    "foo = model.predict_classes(X_valid_)"
   ]
  },
  {
   "cell_type": "code",
   "execution_count": null,
   "metadata": {},
   "outputs": [],
   "source": []
  },
  {
   "cell_type": "code",
   "execution_count": 20,
   "metadata": {
    "scrolled": true
   },
   "outputs": [
    {
     "name": "stdout",
     "output_type": "stream",
     "text": [
      "||Results||\n"
     ]
    },
    {
     "ename": "NameError",
     "evalue": "name 'foo' is not defined",
     "output_type": "error",
     "traceback": [
      "\u001b[1;31m---------------------------------------------------------------------------\u001b[0m",
      "\u001b[1;31mNameError\u001b[0m                                 Traceback (most recent call last)",
      "\u001b[1;32m<ipython-input-20-cadb0a86668a>\u001b[0m in \u001b[0;36m<module>\u001b[1;34m()\u001b[0m\n\u001b[0;32m      9\u001b[0m \u001b[1;33m\u001b[0m\u001b[0m\n\u001b[0;32m     10\u001b[0m \u001b[1;33m\u001b[0m\u001b[0m\n\u001b[1;32m---> 11\u001b[1;33m \u001b[0mprint\u001b[0m\u001b[1;33m(\u001b[0m\u001b[1;34m\"\\tTest f1 score(macro):\\t{:.4f} \"\u001b[0m\u001b[1;33m.\u001b[0m\u001b[0mformat\u001b[0m\u001b[1;33m(\u001b[0m\u001b[0mmetrics\u001b[0m\u001b[1;33m.\u001b[0m\u001b[0mf1_score\u001b[0m\u001b[1;33m(\u001b[0m\u001b[0my_true\u001b[0m\u001b[1;33m=\u001b[0m\u001b[0my_test0\u001b[0m\u001b[1;33m,\u001b[0m \u001b[0my_pred\u001b[0m\u001b[1;33m=\u001b[0m\u001b[0mfoo\u001b[0m\u001b[1;33m,\u001b[0m\u001b[0maverage\u001b[0m\u001b[1;33m=\u001b[0m\u001b[1;34m\"macro\"\u001b[0m\u001b[1;33m)\u001b[0m\u001b[1;33m)\u001b[0m\u001b[1;33m)\u001b[0m\u001b[1;33m\u001b[0m\u001b[0m\n\u001b[0m\u001b[0;32m     12\u001b[0m \u001b[0mprint\u001b[0m\u001b[1;33m(\u001b[0m\u001b[1;34m\"\\tTest f1 score(weighted):\\t{:.4f} \"\u001b[0m\u001b[1;33m.\u001b[0m\u001b[0mformat\u001b[0m\u001b[1;33m(\u001b[0m\u001b[0mmetrics\u001b[0m\u001b[1;33m.\u001b[0m\u001b[0mf1_score\u001b[0m\u001b[1;33m(\u001b[0m\u001b[0my_true\u001b[0m\u001b[1;33m=\u001b[0m\u001b[0my_test0\u001b[0m\u001b[1;33m,\u001b[0m \u001b[0my_pred\u001b[0m\u001b[1;33m=\u001b[0m\u001b[0mfoo\u001b[0m\u001b[1;33m,\u001b[0m\u001b[0maverage\u001b[0m\u001b[1;33m=\u001b[0m\u001b[1;34m\"weighted\"\u001b[0m\u001b[1;33m)\u001b[0m\u001b[1;33m)\u001b[0m\u001b[1;33m)\u001b[0m\u001b[1;33m\u001b[0m\u001b[0m\n\u001b[0;32m     13\u001b[0m \u001b[1;33m\u001b[0m\u001b[0m\n",
      "\u001b[1;31mNameError\u001b[0m: name 'foo' is not defined"
     ]
    }
   ],
   "source": [
    "# Results presentation\n",
    "import time\n",
    "start_time = time.time()\n",
    "\n",
    "print(\"||Results||\")\n",
    "\n",
    "\n",
    "import sklearn.metrics as metrics\n",
    "\n",
    "\n",
    "print(\"\\tTest f1 score(macro):\\t{:.4f} \".format(metrics.f1_score(y_true=y_test0, y_pred=foo,average=\"macro\")))\n",
    "print(\"\\tTest f1 score(weighted):\\t{:.4f} \".format(metrics.f1_score(y_true=y_test0, y_pred=foo,average=\"weighted\")))\n",
    "\n",
    "# print(\"\\tTest confusion matrix:\\t{:} \".format(metrics.confusion_matrix(y_test0, y_pred=foo)))\n",
    "# print(\"\\tTest fscore:\\t{:} \".format(metrics.(y_test0, y_pred=foo)))\n",
    "\n",
    "print(\"\\tTook {:.3f}s.\".format( time.time() - start_time))\n"
   ]
  },
  {
   "cell_type": "markdown",
   "metadata": {},
   "source": [
    "## 6. plot the confusion matrix\n",
    "\n",
    "http://scikit-learn.org/stable/auto_examples/model_selection/plot_confusion_matrix.html#sphx-glr-auto-examples-model-selection-plot-confusion-matrix-py"
   ]
  },
  {
   "cell_type": "code",
   "execution_count": 90,
   "metadata": {},
   "outputs": [
    {
     "name": "stdout",
     "output_type": "stream",
     "text": [
      "Confusion matrix, without normalization\n",
      "[[8155    0    0    0   39    0    0    0    0    0    0    0    0    0\n",
      "     0    0   43    0]\n",
      " [  32    0    0    0   26    0    0    0    0    0    0    0    0    0\n",
      "     0    0    0    0]\n",
      " [  47    0    0    0   48    0    0    0    0    0    0    0    0    0\n",
      "     0    0    0    0]\n",
      " [  31    0    0    0   29    0    0    0    0    0    0    0    0    0\n",
      "     0    0    0    0]\n",
      " [  26    0    0    0   57    0    0    0    0    0    0    0    0    0\n",
      "     0    0    0    0]\n",
      " [ 228    0    0    0    0    0    0    0    0    0    0    0    0    0\n",
      "     0    0    0    0]\n",
      " [ 160    0    0    0    0    0    0    0    0    0    0    0    0    0\n",
      "     0    0    0    0]\n",
      " [ 100    0    0    0    0    0    0    0    0    0    0    0    0    0\n",
      "     0    0    0    0]\n",
      " [  77    0    0    0    0    0    0    0    0    0    0    0    0    0\n",
      "     0    0    0    0]\n",
      " [  39    0    0    0    0    0    0    0    0    0    0    0    0    0\n",
      "     0    0    0    0]\n",
      " [  42    0    0    0    0    0    0    0    0    0    0    0    0    0\n",
      "     0    0    0    0]\n",
      " [  40    0    0    0    0    0    0    0    0    0    0    0    0    0\n",
      "     0    0    0    0]\n",
      " [  26    0    0    0    0    0    0    0    0    0    0    0    0    0\n",
      "     0    0    0    0]\n",
      " [  67    0    0    0    0    0    0    0    0    0    0    0    0    0\n",
      "     0    0    0    0]\n",
      " [  61    0    0    0    0    0    0    0    0    0    0    0    0    0\n",
      "     0    0    0    0]\n",
      " [  86    0    0    0    0    0    0    0    0    0    0    0    0    0\n",
      "     0   13    0    0]\n",
      " [ 204    0    0    0   23    0    0    0    0    0    0    0    0    0\n",
      "     0    0   90    0]\n",
      " [ 105    0    0    0    0    0    0    0    0    0    0    0    0    0\n",
      "     0    0    0    0]]\n",
      "Normalized confusion matrix\n",
      "[[0.99  0.    0.    0.    0.005 0.    0.    0.    0.    0.    0.    0.\n",
      "  0.    0.    0.    0.    0.005 0.   ]\n",
      " [0.552 0.    0.    0.    0.448 0.    0.    0.    0.    0.    0.    0.\n",
      "  0.    0.    0.    0.    0.    0.   ]\n",
      " [0.495 0.    0.    0.    0.505 0.    0.    0.    0.    0.    0.    0.\n",
      "  0.    0.    0.    0.    0.    0.   ]\n",
      " [0.517 0.    0.    0.    0.483 0.    0.    0.    0.    0.    0.    0.\n",
      "  0.    0.    0.    0.    0.    0.   ]\n",
      " [0.313 0.    0.    0.    0.687 0.    0.    0.    0.    0.    0.    0.\n",
      "  0.    0.    0.    0.    0.    0.   ]\n",
      " [1.    0.    0.    0.    0.    0.    0.    0.    0.    0.    0.    0.\n",
      "  0.    0.    0.    0.    0.    0.   ]\n",
      " [1.    0.    0.    0.    0.    0.    0.    0.    0.    0.    0.    0.\n",
      "  0.    0.    0.    0.    0.    0.   ]\n",
      " [1.    0.    0.    0.    0.    0.    0.    0.    0.    0.    0.    0.\n",
      "  0.    0.    0.    0.    0.    0.   ]\n",
      " [1.    0.    0.    0.    0.    0.    0.    0.    0.    0.    0.    0.\n",
      "  0.    0.    0.    0.    0.    0.   ]\n",
      " [1.    0.    0.    0.    0.    0.    0.    0.    0.    0.    0.    0.\n",
      "  0.    0.    0.    0.    0.    0.   ]\n",
      " [1.    0.    0.    0.    0.    0.    0.    0.    0.    0.    0.    0.\n",
      "  0.    0.    0.    0.    0.    0.   ]\n",
      " [1.    0.    0.    0.    0.    0.    0.    0.    0.    0.    0.    0.\n",
      "  0.    0.    0.    0.    0.    0.   ]\n",
      " [1.    0.    0.    0.    0.    0.    0.    0.    0.    0.    0.    0.\n",
      "  0.    0.    0.    0.    0.    0.   ]\n",
      " [1.    0.    0.    0.    0.    0.    0.    0.    0.    0.    0.    0.\n",
      "  0.    0.    0.    0.    0.    0.   ]\n",
      " [1.    0.    0.    0.    0.    0.    0.    0.    0.    0.    0.    0.\n",
      "  0.    0.    0.    0.    0.    0.   ]\n",
      " [0.869 0.    0.    0.    0.    0.    0.    0.    0.    0.    0.    0.\n",
      "  0.    0.    0.    0.131 0.    0.   ]\n",
      " [0.644 0.    0.    0.    0.073 0.    0.    0.    0.    0.    0.    0.\n",
      "  0.    0.    0.    0.    0.284 0.   ]\n",
      " [1.    0.    0.    0.    0.    0.    0.    0.    0.    0.    0.    0.\n",
      "  0.    0.    0.    0.    0.    0.   ]]\n"
     ]
    },
    {
     "data": {
      "image/png": "[encoded data removed]",
      "text/plain": [
       "<Figure size 432x432 with 2 Axes>"
      ]
     },
     "metadata": {},
     "output_type": "display_data"
    },
    {
     "data": {
      "image/png": "[encoded data removed]",
      "text/plain": [
       "<Figure size 576x576 with 2 Axes>"
      ]
     },
     "metadata": {},
     "output_type": "display_data"
    }
   ],
   "source": [
    "%matplotlib inline\n",
    "import matplotlib.pyplot as plt\n",
    "import itertools\n",
    "from sklearn.metrics import confusion_matrix\n",
    "\n",
    "def plot_confusion_matrix(cm, classes,\n",
    "                          normalize=False,\n",
    "                          title='Confusion matrix',\n",
    "                          cmap=plt.cm.Reds):\n",
    "    \"\"\"\n",
    "    This function prints and plots the confusion matrix.\n",
    "    Normalization can be applied by setting `normalize=True`.\n",
    "    \"\"\"\n",
    "    if normalize:\n",
    "        cm = cm.astype('int') / cm.sum(axis=1)[:, np.newaxis]\n",
    "        print(\"Normalized confusion matrix\")\n",
    "    else:\n",
    "        print('Confusion matrix, without normalization')\n",
    "\n",
    "    print(cm)\n",
    "\n",
    "    plt.imshow(cm, interpolation='nearest', cmap=cmap)\n",
    "    plt.title(title)\n",
    "    plt.colorbar()\n",
    "    tick_marks = np.arange(len(classes))\n",
    "    plt.xticks(tick_marks, classes, rotation=45)\n",
    "    plt.yticks(tick_marks, classes)\n",
    "\n",
    "    fmt = '.2f' if normalize else 'd'\n",
    "    thresh = cm.max() / 2.\n",
    "    for i, j in itertools.product(range(cm.shape[0]), range(cm.shape[1])):\n",
    "        plt.text(j, i, format(cm[i, j], fmt),\n",
    "                 horizontalalignment=\"center\",\n",
    "                 color=\"white\" if cm[i, j] > thresh else \"black\")\n",
    "\n",
    "    plt.tight_layout()\n",
    "    plt.ylabel('True label')\n",
    "    plt.xlabel('Predicted label')\n",
    "    \n",
    "    \n",
    "\n",
    "# Compute confusion matrix\n",
    "cnf_matrix = confusion_matrix(y_test0, foo)\n",
    "np.set_printoptions(precision=3)\n",
    "\n",
    "\n",
    "# Plot non-normalized confusion matrix\n",
    "plt.figure(figsize=(6,6))\n",
    "plot_confusion_matrix(cnf_matrix,classes=[0,1,2,3,4,5,6,7,8,9,10,11,12,13,14,15,16,17],\n",
    "                      title='ConvLSTM on Opportunity (without normalization).jpg')\n",
    "plt.savefig(\"ConvLSTM on Opportunity (without normalization).jpg\")\n",
    "\n",
    "#Plot normalized confusion matrix\n",
    "plt.figure(figsize=(8,8))\n",
    "plot_confusion_matrix(cnf_matrix, classes=[0,1,2,3,4,5,6,7,8,9,10,11,12,13,14,15,16,17], normalize=True,\n",
    "#                        title='Normalized confusion matrix')\n",
    "                      title='ConvLSTM on Opportunity (with normalization)')\n",
    "plt.savefig(\"ConvLSTM on Opportunity (with normalization).jpg\")\n",
    "plt.show()"
   ]
  },
  {
   "cell_type": "code",
   "execution_count": null,
   "metadata": {},
   "outputs": [],
   "source": []
  }
 ],
 "metadata": {
  "kernelspec": {
   "display_name": "Python 3",
   "language": "python",
   "name": "python3"
  },
  "language_info": {
   "codemirror_mode": {
    "name": "ipython",
    "version": 3
   },
   "file_extension": ".py",
   "mimetype": "text/x-python",
   "name": "python",
   "nbconvert_exporter": "python",
   "pygments_lexer": "ipython3",
   "version": "3.6.5"
  }
 },
 "nbformat": 4,
 "nbformat_minor": 2
}
